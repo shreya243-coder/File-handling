{
  "nbformat": 4,
  "nbformat_minor": 0,
  "metadata": {
    "colab": {
      "provenance": []
    },
    "kernelspec": {
      "name": "python3",
      "display_name": "Python 3"
    },
    "language_info": {
      "name": "python"
    }
  },
  "cells": [
    {
      "cell_type": "markdown",
      "source": [
        "#File Handling assignment"
      ],
      "metadata": {
        "id": "dM8OqCtWF-XV"
      }
    },
    {
      "cell_type": "markdown",
      "source": [
        "1. What is the difference between interpreted and compiled languages?\n",
        "-> The main difference between **interpreted** and **compiled** languages is how they execute code:\n",
        "\n",
        "- **Interpreted Languages** (e.g., Python, JavaScript)  \n",
        "  → Code is executed **line by line** by an **interpreter** at runtime.  \n",
        "  → Slower execution but easier debugging.  \n",
        "\n",
        "- **Compiled Languages** (e.g., C, C++)  \n",
        "  → Code is first **translated** into machine code by a **compiler**, then executed.  \n",
        "  → Faster execution but requires compilation before running.  "
      ],
      "metadata": {
        "id": "8OivW6HRGFQq"
      }
    },
    {
      "cell_type": "markdown",
      "source": [
        "2. What is exception handling in Python?\n",
        "-> **Exception handling** in Python is a way to **handle runtime errors** to prevent program crashes. It uses `try`, `except`, `finally`, and `else` blocks to catch and manage exceptions.  \n",
        "\n",
        "### **Key Keywords:**\n",
        "- `try` → Code that may cause an exception.  \n",
        "- `except` → Handles the exception.  \n",
        "- `finally` → Executes code **always**, whether an exception occurs or not.  \n",
        "- `else` → Runs if no exception occurs.  \n",
        "\n",
        "### **Example:**  \n",
        "```python\n",
        "try:\n",
        "    x = 10 / 0  # Causes ZeroDivisionError\n",
        "except ZeroDivisionError:\n",
        "    print(\"Cannot divide by zero!\")\n",
        "finally:\n",
        "    print(\"Execution completed.\")\n",
        "```\n",
        "\n",
        "✅ **Output:**  \n",
        "```\n",
        "Cannot divide by zero!  \n",
        "Execution completed.  \n",
        "```  "
      ],
      "metadata": {
        "id": "kdkoAP7gG5ZD"
      }
    },
    {
      "cell_type": "markdown",
      "source": [
        "3. What is the purpose of the finally block in exception handling?\n",
        "-> The **`finally`** block in Python **always executes** whether an exception occurs or not. It is used to **release resources** (like closing files or database connections) and perform **cleanup actions**.  \n",
        "\n",
        "### **Example:**  \n",
        "```python\n",
        "try:\n",
        "    file = open(\"data.txt\", \"r\")  \n",
        "    content = file.read()\n",
        "except FileNotFoundError:\n",
        "    print(\"File not found!\")\n",
        "finally:\n",
        "    print(\"Closing the file...\")\n",
        "    file.close()  \n",
        "```\n",
        "\n",
        "### **Key Points:**  \n",
        "✔ **Runs always** (even if there’s an error).  \n",
        "✔ Used for **cleanup tasks** (e.g., closing files, releasing memory)."
      ],
      "metadata": {
        "id": "8yk2FcB_HQsE"
      }
    },
    {
      "cell_type": "markdown",
      "source": [
        "4. What is logging in Python?\n",
        "-> **Logging** in Python is a way to **record events, errors, and debugging information** during program execution. It helps in monitoring and troubleshooting applications.  \n",
        "\n",
        "### **Key Features:**  \n",
        "✔ Captures **warnings, errors, and info messages**  \n",
        "✔ Supports different **log levels** (DEBUG, INFO, WARNING, ERROR, CRITICAL)  \n",
        "✔ Can log to **console, files, or external systems**  \n",
        "\n",
        "### **Example:**  \n",
        "```python\n",
        "import logging\n",
        "\n",
        "logging.basicConfig(level=logging.INFO)\n",
        "logging.info(\"This is an info message.\")\n",
        "logging.warning(\"This is a warning!\")\n",
        "logging.error(\"An error occurred!\")\n",
        "```\n",
        "\n",
        "### **Common Log Levels:**  \n",
        "- `DEBUG` → Detailed information (for debugging).  \n",
        "- `INFO` → General information.  \n",
        "- `WARNING` → Indicates a potential problem.  \n",
        "- `ERROR` → A serious error occurred.  \n",
        "- `CRITICAL` → A severe error requiring immediate attention."
      ],
      "metadata": {
        "id": "qqY1-RgiHhQw"
      }
    },
    {
      "cell_type": "markdown",
      "source": [
        "5. What is the significance of the __del__ method in Python?\n",
        "-> The **`__del__`** method in Python is a **destructor** that is called automatically when an object is **deleted or goes out of scope**. It is used to **release resources** like closing files or database connections before the object is destroyed.  \n",
        "\n",
        "### **Example:**  \n",
        "```python\n",
        "class Example:\n",
        "    def __init__(self):\n",
        "        print(\"Object created!\")\n",
        "    \n",
        "    def __del__(self):\n",
        "        print(\"Object destroyed!\")\n",
        "\n",
        "obj = Example()  # Creates an object\n",
        "del obj  # Explicitly deletes the object\n",
        "```\n",
        "\n",
        "### **Key Points:**  \n",
        "✔ **Called automatically** when an object is garbage collected.  \n",
        "✔ Used for **cleanup tasks** (closing files, releasing memory).  \n",
        "✔ Not always guaranteed to run immediately (depends on Python's garbage collector)."
      ],
      "metadata": {
        "id": "SJL7NjwbH9oM"
      }
    },
    {
      "cell_type": "markdown",
      "source": [
        "6. What is the difference between import and from ... import in Python?\n",
        "-> The difference between **`import`** and **`from ... import`** in Python is how they bring in modules or functions:  \n",
        "\n",
        "### **1. `import` Statement**  \n",
        "- Imports the entire module.  \n",
        "- Requires **module name** when accessing functions.  \n",
        "\n",
        "✅ **Example:**  \n",
        "```python\n",
        "import math\n",
        "print(math.sqrt(16))  \n",
        "```\n",
        "\n",
        "### **2. `from ... import` Statement**  \n",
        "- Imports **specific functions or variables** from a module.  \n",
        "- No need to use the module name.  \n",
        "\n",
        "✅ **Example:**  \n",
        "```python\n",
        "from math import sqrt\n",
        "print(sqrt(16))  \n",
        "```\n",
        "\n",
        "### **Key Differences:**  \n",
        "\n",
        "| Feature              | `import` | `from ... import` |\n",
        "|----------------------|---------|------------------|\n",
        "| Imports full module? | ✅ Yes | ❌ No (only selected parts) |\n",
        "| Access via module name? | ✅ Yes | ❌ No |\n",
        "| Risk of name conflicts? | ❌ No | ✅ Yes (if names overlap) |\n",
        "\n",
        "For **better readability** and **avoidance of conflicts**, `import` is generally preferred unless only a few functions are needed."
      ],
      "metadata": {
        "id": "GyBOw1YJIRmz"
      }
    },
    {
      "cell_type": "markdown",
      "source": [
        "7.  How can you handle multiple exceptions in Python?\n",
        "-> In Python, you can handle **multiple exceptions** using:  \n",
        "\n",
        "### **i. Multiple `except` Blocks**  \n",
        "Handle different exceptions separately.  \n",
        "```python\n",
        "try:\n",
        "    x = int(input(\"Enter a number: \"))\n",
        "    result = 10 / x\n",
        "except ZeroDivisionError:\n",
        "    print(\"Cannot divide by zero!\")\n",
        "except ValueError:\n",
        "    print(\"Invalid input! Enter a number.\")\n",
        "```\n",
        "\n",
        "### **ii. Single `except` with Multiple Exceptions**  \n",
        "Catch multiple exceptions in **one block** using a tuple.  \n",
        "```python\n",
        "try:\n",
        "    x = int(input(\"Enter a number: \"))\n",
        "    result = 10 / x\n",
        "except (ZeroDivisionError, ValueError) as e:\n",
        "    print(f\"Error: {e}\")\n",
        "```\n",
        "\n",
        "### **iii. Generic `except` Block**  \n",
        "Catches **any exception** (not recommended unless necessary).  \n",
        "```python\n",
        "try:\n",
        "    x = int(input(\"Enter a number: \"))\n",
        "    result = 10 / x\n",
        "except Exception as e:\n",
        "    print(f\"An error occurred: {e}\")\n",
        "```\n",
        "\n",
        "Using specific exception types is **better** for debugging and readability. 🚀"
      ],
      "metadata": {
        "id": "oSQhODVCIsKi"
      }
    },
    {
      "cell_type": "markdown",
      "source": [
        "8. What is the purpose of the with statement when handling files in Python?\n",
        "-> The **`with`** statement in Python is used for **handling files** efficiently by ensuring they are **automatically closed** after use, even if an error occurs.  \n",
        "\n",
        "### **Advantages:**  \n",
        "✔ **No need to manually close** the file (`close()` is called automatically).  \n",
        "✔ Prevents **resource leaks** and improves code readability.  \n",
        "\n",
        "### **Example Without `with`:**  \n",
        "```python\n",
        "file = open(\"example.txt\", \"r\")\n",
        "content = file.read()\n",
        "file.close()  # Must manually close\n",
        "```\n",
        "\n",
        "### **Example With `with`:**  \n",
        "```python\n",
        "with open(\"example.txt\", \"r\") as file:\n",
        "    content = file.read()  # File auto-closes after block\n",
        "```\n",
        "\n",
        "**✅ Best Practice:** The `with` statement ensures safe file handling and avoids common errors like forgetting to close the file. 🚀"
      ],
      "metadata": {
        "id": "xTz_kXHfJIop"
      }
    },
    {
      "cell_type": "markdown",
      "source": [
        "9. What is the difference between multithreading and multiprocessing?\n",
        "-> The main difference between **multithreading** and **multiprocessing** in Python is how they handle tasks:  \n",
        "\n",
        "### **i. Multithreading** 🧵  \n",
        "- Uses **multiple threads** within the **same process**.  \n",
        "- Threads **share memory** and **run concurrently** (but not in parallel due to Python’s GIL).  \n",
        "- Best for **I/O-bound tasks** (e.g., file reading, network requests).  \n",
        "\n",
        "✅ **Example:**  \n",
        "```python\n",
        "import threading\n",
        "\n",
        "def task():\n",
        "    print(\"Thread running\")\n",
        "\n",
        "t = threading.Thread(target=task)\n",
        "t.start()\n",
        "```\n",
        "\n",
        "### **ii. Multiprocessing** 🖥️  \n",
        "- Uses **multiple processes**, each with its **own memory**.  \n",
        "- Achieves **true parallel execution** (bypasses Python’s GIL).  \n",
        "- Best for **CPU-bound tasks** (e.g., heavy calculations).  \n",
        "\n",
        "✅ **Example:**  \n",
        "```python\n",
        "import multiprocessing\n",
        "\n",
        "def task():\n",
        "    print(\"Process running\")\n",
        "\n",
        "p = multiprocessing.Process(target=task)\n",
        "p.start()\n",
        "```\n",
        "\n",
        "### **Key Differences:**  \n",
        "\n",
        "| Feature         | Multithreading | Multiprocessing |\n",
        "|---------------|---------------|---------------|\n",
        "| Execution | **Concurrent (not parallel)** | **True parallel execution** |\n",
        "| Memory Sharing | **Shared memory** | **Separate memory** |\n",
        "| GIL Limitation | **Yes (GIL affects execution)** | **No (each process runs independently)** |\n",
        "| Best for | **I/O-bound tasks** | **CPU-bound tasks** |\n",
        "\n"
      ],
      "metadata": {
        "id": "_aJqvGnRJdiU"
      }
    },
    {
      "cell_type": "markdown",
      "source": [
        "10. What are the advantages of using logging in a program?\n",
        "-> Using logging in a program offers several advantages:\n",
        "\n",
        "i. **Debugging**: Helps trace the flow of execution and identify issues.\n",
        "\n",
        "ii. **Monitoring**: Provides insights into application behavior and performance over time.\n",
        "\n",
        "iii. **Error Tracking**: Captures and records errors for easier diagnosis.\n",
        "\n",
        "iv. **Auditing**: Maintains a record of actions for compliance and security purposes.\n",
        "\n",
        "v. **Configurability**: Allows different levels of detail (e.g., info, warning, error) to be logged based on needs.\n",
        "\n",
        "vi. **Persistence**: Logs can be stored for future reference, aiding in long-term analysis.\n",
        "\n",
        "vii. **Non-intrusive**: Keeps the main application logic clean by separating logging from business logic."
      ],
      "metadata": {
        "id": "GJ4jPSeNJ0MA"
      }
    },
    {
      "cell_type": "markdown",
      "source": [
        "11. What is memory management in Python?\n",
        "-> Memory management in Python involves the allocation, usage, and deallocation of memory resources. Key aspects include:\n",
        "\n",
        "i. **Automatic Memory Management**: Python uses a garbage collector to automatically reclaim memory that is no longer in use, reducing memory leaks.\n",
        "  \n",
        "ii. **Reference Counting**: Each object maintains a count of references to it. When the count drops to zero, the memory can be freed.\n",
        "\n",
        "iii. **Garbage Collection**: In addition to reference counting, Python employs a cyclic garbage collector to handle reference cycles that reference counting alone cannot manage.\n",
        "\n",
        "iv. **Memory Pools**: Python optimizes memory usage by using memory pools for small objects, which reduces fragmentation and speeds up allocation.\n",
        "\n",
        "v. **Dynamic Typing**: Memory is allocated dynamically, allowing for flexible data structures but requiring careful management to avoid excessive memory use.\n",
        "\n"
      ],
      "metadata": {
        "id": "Br9jVgCIKTk2"
      }
    },
    {
      "cell_type": "markdown",
      "source": [
        "12. What are the basic steps involved in exception handling in Python?\n",
        "-> The basic steps involved in exception handling in Python are:\n",
        "\n",
        "1. **Try Block**: Write code that might raise an exception inside a `try` block.\n",
        "\n",
        "2. **Except Block**: Follow the `try` block with one or more `except` blocks to define how to handle specific exceptions.\n",
        "\n",
        "3. **Else Block (optional)**: Use an `else` block to specify code that should run if no exceptions are raised.\n",
        "\n",
        "4. **Finally Block (optional)**: Include a `finally` block for code that must run regardless of whether an exception occurred (e.g., cleanup actions).\n",
        "\n",
        "Here’s a simple structure:\n",
        "\n",
        "```python\n",
        "try:\n",
        "    # Code that may raise an exception\n",
        "except SomeException:\n",
        "    # Handle the exception\n",
        "else:\n",
        "    # Code to run if no exceptions occur\n",
        "finally:\n",
        "    # Code to run no matter what\n",
        "```\n",
        "\n",
        "This structure allows for robust error handling and ensures that resources are properly managed."
      ],
      "metadata": {
        "id": "lKhuiBTfKq0M"
      }
    },
    {
      "cell_type": "markdown",
      "source": [
        "13.  Why is memory management important in Python?\n",
        "-> Memory management is important in Python for several reasons:\n",
        "\n",
        "i. **Performance**: Efficient memory use helps optimize program performance and response times.\n",
        "\n",
        "ii. **Resource Management**: Proper management prevents memory leaks, ensuring that resources are available when needed.\n",
        "\n",
        "iii. **Stability**: Effective memory management reduces the risk of crashes or unexpected behavior due to insufficient memory.\n",
        "\n",
        "iv. **Scalability**: As applications grow, good memory management supports scalability by handling increased data and user loads.\n",
        "\n",
        "v. **Ease of Development**: Automated memory management (like garbage collection) simplifies development by allowing developers to focus on functionality rather than memory allocation.\n",
        "\n",
        "Overall, it ensures that applications run smoothly and efficiently while minimizing resource waste."
      ],
      "metadata": {
        "id": "aUp-vmmsLCo0"
      }
    },
    {
      "cell_type": "markdown",
      "source": [
        "14. What is the role of try and except in exception handling?\n",
        "-> In exception handling, the roles of `try` and `except` are:\n",
        "\n",
        "i. **Try Block**: The `try` block contains code that may potentially raise an exception. It allows the program to attempt executing this code while anticipating possible errors.\n",
        "\n",
        "ii. **Except Block**: The `except` block follows the `try` block and defines how to handle specific exceptions if they occur. If an exception is raised in the `try` block, control is transferred to the corresponding `except` block, allowing for graceful error handling without crashing the program.\n",
        "\n",
        "Together, they enable robust error management and improve the reliability of the code."
      ],
      "metadata": {
        "id": "UyIfK8rHLpBs"
      }
    },
    {
      "cell_type": "markdown",
      "source": [
        "15. How does Python's garbage collection system work?\n",
        "-> Python's garbage collection system primarily uses two techniques:\n",
        "\n",
        "i. **Reference Counting**: Each object maintains a count of references to it. When the count drops to zero (i.e., no references exist), the memory occupied by the object is automatically freed.\n",
        "\n",
        "ii. **Cyclic Garbage Collection**: To handle reference cycles (where two or more objects reference each other), Python uses a cyclic garbage collector. This collector periodically identifies and collects groups of objects that are no longer reachable, even if they still have non-zero reference counts.\n",
        "\n",
        "Together, these mechanisms help manage memory efficiently, reclaiming resources that are no longer needed and reducing the risk of memory leaks."
      ],
      "metadata": {
        "id": "XI8p7iM7L4J7"
      }
    },
    {
      "cell_type": "markdown",
      "source": [
        "16. What is the purpose of the else block in exception handling?\n",
        "-> The `else` block in exception handling serves the purpose of executing code that should run only if no exceptions were raised in the preceding `try` block. It allows you to separate the normal execution flow from error handling, making the code clearer and easier to read.\n",
        "\n",
        "Here's a brief structure:\n",
        "\n",
        "```python\n",
        "try:\n",
        "    # Code that may raise an exception\n",
        "except SomeException:\n",
        "    # Handle the exception\n",
        "else:\n",
        "    # Code to run if no exceptions occur\n",
        "```\n",
        "\n",
        "Using the `else` block helps ensure that certain actions are only performed when the code runs successfully, enhancing control over the program's flow."
      ],
      "metadata": {
        "id": "DF9fsuLgMCgI"
      }
    },
    {
      "cell_type": "markdown",
      "source": [
        "17. What are the common logging levels in Python?\n",
        "-> The common logging levels in Python, in order of severity, are:\n",
        "\n",
        "i. **DEBUG**: Detailed information, typically used for diagnosing problems.\n",
        "\n",
        "ii. **INFO**: General information about program execution, indicating normal operation.\n",
        "\n",
        "iii. **WARNING**: Indicates a potential problem or unexpected situation that doesn't prevent the program from running.\n",
        "\n",
        "iv. **ERROR**: An error occurred that prevented a function from performing its task, but the program continues running.\n",
        "\n",
        "v. **CRITICAL**: A serious error that may prevent the program from continuing to run.\n",
        "\n",
        "These levels help categorize log messages, making it easier to filter and manage output based on importance."
      ],
      "metadata": {
        "id": "DApyQh_QML1A"
      }
    },
    {
      "cell_type": "markdown",
      "source": [
        "18. What is the difference between os.fork() and multiprocessing in Python?\n",
        "-> The difference between `os.fork()` and the `multiprocessing` module in Python is as follows:\n",
        "\n",
        "i. **os.fork()**:\n",
        "   - Creates a new process by duplicating the calling process.\n",
        "   - Works only on Unix-like systems (not available on Windows).\n",
        "   - The parent and child processes share the same memory space initially, leading to potential complexities with data sharing and state management.\n",
        "\n",
        "ii. **multiprocessing**:\n",
        "   - A higher-level module that provides a more user-friendly way to create and manage processes.\n",
        "   - Works across all platforms, including Windows.\n",
        "   - Supports sharing data between processes using pipes, queues, and shared memory, making it easier to manage inter-process communication (IPC).\n",
        "\n",
        "In summary, `os.fork()` is a lower-level function for process creation, while `multiprocessing` offers a more comprehensive and cross-platform approach to concurrent processing in Python."
      ],
      "metadata": {
        "id": "WFo2DkGbM84W"
      }
    },
    {
      "cell_type": "markdown",
      "source": [
        "19. What is the importance of closing a file in Python?\n",
        "-> Closing a file in Python is important for several reasons:\n",
        "\n",
        "i. **Resource Management**: Closing a file frees up system resources, such as file descriptors, preventing resource leaks.\n",
        "\n",
        "ii. **Data Integrity**: Ensures that all buffered data is flushed to the file, preventing data loss or corruption.\n",
        "\n",
        "iii. **Avoiding Errors**: Prevents potential errors or exceptions related to file access after the file has been closed.\n",
        "\n",
        "iv. **Concurrency**: Closing a file makes it available for other processes or threads, allowing for better file handling in multi-threaded applications.\n",
        "\n",
        "Overall, properly closing files is crucial for maintaining program stability and data reliability."
      ],
      "metadata": {
        "id": "iLBrcnG_NJA9"
      }
    },
    {
      "cell_type": "markdown",
      "source": [
        "20. What is the difference between file.read() and file.readline() in Python?\n",
        "-> The difference between `file.read()` and `file.readline()` in Python is:\n",
        "\n",
        "i. **file.read()**:\n",
        "   - Reads the entire contents of a file at once as a single string.\n",
        "   - Useful for processing small to medium-sized files where you need the whole content.\n",
        "\n",
        "ii. **file.readline()**:\n",
        "   - Reads one line from the file at a time.\n",
        "   - Returns the line as a string, including the newline character at the end.\n",
        "   - Useful for processing large files line by line, allowing for more memory-efficient reading.\n",
        "\n",
        "In summary, use `file.read()` for complete file content and `file.readline()` for line-by-line reading."
      ],
      "metadata": {
        "id": "tbvLdp0gNVtY"
      }
    },
    {
      "cell_type": "markdown",
      "source": [
        "21.  What is the logging module in Python used for?\n",
        "-> The logging module in Python is used for tracking events that occur during program execution. It provides a flexible framework for emitting log messages from Python programs. Key features include:\n",
        "\n",
        "i. **Log Levels**: Allows categorization of messages (DEBUG, INFO, WARNING, ERROR, CRITICAL) to indicate their severity.\n",
        "\n",
        "ii. **Output Configuration**: Supports various output destinations, such as console, files, or remote servers.\n",
        "\n",
        "iii. **Formatting**: Enables customization of log message formats for better readability and context.\n",
        "\n",
        "iv. **Filtering**: Allows filtering of log messages based on severity or specific criteria.\n",
        "\n",
        "v. **Error Tracking**: Helps in diagnosing issues by providing a record of events leading up to errors.\n",
        "\n",
        "Overall, the logging module is essential for debugging, monitoring, and maintaining applications."
      ],
      "metadata": {
        "id": "0ynffbpCNj5x"
      }
    },
    {
      "cell_type": "markdown",
      "source": [
        "22. What is the os module in Python used for in file handling?\n",
        "-> The `os` module in Python is used for interacting with the operating system and provides a variety of functions for file handling, including:\n",
        "\n",
        "i. **File and Directory Management**: Functions to create, remove, and rename files and directories (e.g., `os.mkdir()`, `os.remove()`).\n",
        "\n",
        "ii. **Path Manipulation**: Tools for handling file paths, such as joining or splitting paths (e.g., `os.path.join()`).\n",
        "\n",
        "iii. **File Attributes**: Access to file metadata, such as checking if a file exists or retrieving file size (e.g., `os.path.exists()`, `os.path.getsize()`).\n",
        "\n",
        "iv. **Changing Directories**: Ability to change the current working directory (e.g., `os.chdir()`).\n",
        "\n",
        "v. **Environment Variables**: Access and modify environment variables (e.g., `os.environ`).\n",
        "\n",
        "Overall, the `os` module is essential for performing low-level file operations and interacting with the operating system in Python."
      ],
      "metadata": {
        "id": "AlB1cv7iN69v"
      }
    },
    {
      "cell_type": "markdown",
      "source": [
        "23. What are the challenges associated with memory management in Python?\n",
        "-> Challenges associated with memory management in Python include:\n",
        "\n",
        "i. **Memory Leaks**: Although Python uses garbage collection, circular references can still lead to memory not being released.\n",
        "\n",
        "ii. **Performance Overhead**: Garbage collection introduces some performance costs, especially in programs with many short-lived objects.\n",
        "\n",
        "iii. **Fragmentation**: Frequent allocation and deallocation of memory can lead to fragmentation, affecting performance.\n",
        "\n",
        "iv. **Dynamic Memory Usage**: Dynamic typing and memory allocation can lead to unpredictable memory usage patterns, complicating optimization.\n",
        "\n",
        "v. **Limited Control**: Developers have less direct control over memory management compared to languages like C or C++, making it harder to fine-tune performance.\n",
        "\n",
        "vi. **Large Object Management**: Handling large objects can lead to increased memory pressure, requiring careful management to avoid excessive memory use.\n",
        "\n",
        "Overall, while Python's memory management simplifies many tasks, it also presents unique challenges that developers must consider."
      ],
      "metadata": {
        "id": "WGfdhD-COlq8"
      }
    },
    {
      "cell_type": "markdown",
      "source": [
        "24. How do you raise an exception manually in Python?\n",
        "-> To raise an exception manually in Python, you use the `raise` statement followed by the exception class you want to raise. You can also provide a custom error message. Here's the syntax:\n",
        "\n",
        "```python\n",
        "raise ExceptionType(\"Error message\")\n",
        "```\n",
        "\n",
        "For example:\n",
        "\n",
        "```python\n",
        "raise ValueError(\"Invalid input provided\")\n",
        "```\n",
        "\n",
        "This will raise a `ValueError` with the specified message, allowing you to handle it in a `try`/`except` block or to terminate the program with an error."
      ],
      "metadata": {
        "id": "142HE9ZYPb2i"
      }
    },
    {
      "cell_type": "markdown",
      "source": [
        "25. Why is it important to use multithreading in certain applications?\n",
        "-> Using multithreading in certain applications is important for several reasons:\n",
        "\n",
        "i. **Concurrency**: Enables multiple threads to run simultaneously, improving responsiveness and allowing tasks to proceed in parallel.\n",
        "\n",
        "ii. **Resource Utilization**: Efficiently utilizes CPU cores, especially in I/O-bound applications, by allowing threads to handle multiple I/O operations concurrently.\n",
        "\n",
        "iii. **Responsiveness**: Keeps applications responsive (e.g., in user interfaces) by offloading long-running tasks to background threads.\n",
        "\n",
        "iv. **Task Management**: Simplifies the management of concurrent tasks, making it easier to structure complex programs that involve waiting for events or user input.\n",
        "\n",
        "v. **Performance Improvement**: Can lead to performance gains in applications where tasks can be executed in parallel, reducing overall execution time.\n",
        "\n",
        "Overall, multithreading enhances the performance and user experience of applications by enabling efficient execution of concurrent tasks."
      ],
      "metadata": {
        "id": "ypU4qKO7QBKe"
      }
    },
    {
      "cell_type": "markdown",
      "source": [
        "#Practical questions"
      ],
      "metadata": {
        "id": "FkrWFtqRQPkk"
      }
    },
    {
      "cell_type": "code",
      "source": [
        "#1. How can you open a file for writing in Python and write a string to it?\n",
        "\n",
        "with open('output.txt', 'w') as file:\n",
        "    file.write(\"This is a string written to the file.\")"
      ],
      "metadata": {
        "id": "eJNXxibXQq1C"
      },
      "execution_count": 7,
      "outputs": []
    },
    {
      "cell_type": "code",
      "source": [
        "#2. Write a Python program to read the contents of a file and print each line.\n",
        "\n",
        "try:\n",
        "    with open('input.txt', 'r') as file:\n",
        "        for line in file:\n",
        "            print(line.strip())\n",
        "except FileNotFoundError:\n",
        "    print(\"The file 'input.txt' does not exist.\")\n",
        "except IOError:\n",
        "    print(\"An error occurred while reading the file.\")\n",
        "\n"
      ],
      "metadata": {
        "colab": {
          "base_uri": "https://localhost:8080/"
        },
        "id": "wqpHUZ1ERio_",
        "outputId": "78e72b46-7cea-43bc-8545-2e17fe749f54"
      },
      "execution_count": 9,
      "outputs": [
        {
          "output_type": "stream",
          "name": "stdout",
          "text": [
            "The file 'input.txt' does not exist.\n"
          ]
        }
      ]
    },
    {
      "cell_type": "code",
      "source": [
        "#3. How would you handle a case where the file doesn't exist while trying to open it for reading?\n",
        "\n",
        "try:\n",
        "    with open('non_existent_file.txt', 'r') as file:\n",
        "        content = file.read()\n",
        "        print(content)\n",
        "except FileNotFoundError:\n",
        "    print(\"The file does not exist.\")\n",
        "except IOError:\n",
        "    print(\"An error occurred while trying to read the file.\")\n"
      ],
      "metadata": {
        "colab": {
          "base_uri": "https://localhost:8080/"
        },
        "id": "-AQq4IOqR5AJ",
        "outputId": "dd39cea0-34a2-4403-90fa-4c55f363f596"
      },
      "execution_count": 11,
      "outputs": [
        {
          "output_type": "stream",
          "name": "stdout",
          "text": [
            "The file does not exist.\n"
          ]
        }
      ]
    },
    {
      "cell_type": "code",
      "source": [
        "#4. Write a Python script that reads from one file and writes its content to another file.\n",
        "source_file = 'source.txt'\n",
        "destination_file = 'destination.txt'\n",
        "\n",
        "try:\n",
        "    with open(source_file, 'r') as src:\n",
        "        content = src.read()\n",
        "\n",
        "    with open(destination_file, 'w') as dest:\n",
        "        dest.write(content)\n",
        "\n",
        "    print(f\"Content successfully copied from {source_file} to {destination_file}.\")\n",
        "except FileNotFoundError:\n",
        "    print(f\"The file {source_file} does not exist.\")\n",
        "except IOError:\n",
        "    print(\"An error occurred while reading or writing the file.\")\n"
      ],
      "metadata": {
        "colab": {
          "base_uri": "https://localhost:8080/"
        },
        "id": "mx94NDTESUcC",
        "outputId": "31874069-8a57-4a1a-ee3e-1b78bed35378"
      },
      "execution_count": 12,
      "outputs": [
        {
          "output_type": "stream",
          "name": "stdout",
          "text": [
            "The file source.txt does not exist.\n"
          ]
        }
      ]
    },
    {
      "cell_type": "code",
      "source": [
        "#5. How would you catch and handle division by zero error in Python?\n",
        "try:\n",
        "    result = 10 / 0\n",
        "except ZeroDivisionError:\n",
        "    print(\"Error: Division by zero is not allowed.\")\n"
      ],
      "metadata": {
        "colab": {
          "base_uri": "https://localhost:8080/"
        },
        "id": "G28iq1e4Slo9",
        "outputId": "2cac3409-07d4-4b3b-cb83-3b794d6937af"
      },
      "execution_count": 13,
      "outputs": [
        {
          "output_type": "stream",
          "name": "stdout",
          "text": [
            "Error: Division by zero is not allowed.\n"
          ]
        }
      ]
    },
    {
      "cell_type": "code",
      "source": [
        "#6. Write a Python program that logs an error message to a log file when a division by zero exception occurs.\n",
        "import logging\n",
        "\n",
        "logging.basicConfig(filename='error.log', level=logging.ERROR)\n",
        "\n",
        "try:\n",
        "    result = 10 / 0\n",
        "except ZeroDivisionError:\n",
        "    logging.error(\"Division by zero error occurred.\")\n",
        "    print(\"An error occurred. Check the log file for details.\")\n"
      ],
      "metadata": {
        "colab": {
          "base_uri": "https://localhost:8080/"
        },
        "id": "vdtqYLbRTP8d",
        "outputId": "0ffe8073-a56b-458e-8f0a-b44242c7baa9"
      },
      "execution_count": 14,
      "outputs": [
        {
          "output_type": "stream",
          "name": "stderr",
          "text": [
            "ERROR:root:Division by zero error occurred.\n"
          ]
        },
        {
          "output_type": "stream",
          "name": "stdout",
          "text": [
            "An error occurred. Check the log file for details.\n"
          ]
        }
      ]
    },
    {
      "cell_type": "code",
      "source": [
        "#7.How do you log information at different levels (INFO, ERROR, WARNING) in Python using the logging module?\n",
        "import logging\n",
        "\n",
        "logging.basicConfig(level=logging.DEBUG)\n",
        "\n",
        "logging.info(\"This is an info message.\")\n",
        "logging.warning(\"This is a warning message.\")\n",
        "logging.error(\"This is an error message.\")\n"
      ],
      "metadata": {
        "colab": {
          "base_uri": "https://localhost:8080/"
        },
        "id": "SuPelMb2TuW7",
        "outputId": "65bd2b3d-9bcd-412c-ed86-a661446a80e6"
      },
      "execution_count": 15,
      "outputs": [
        {
          "output_type": "stream",
          "name": "stderr",
          "text": [
            "WARNING:root:This is a warning message.\n",
            "ERROR:root:This is an error message.\n"
          ]
        }
      ]
    },
    {
      "cell_type": "code",
      "source": [
        "#8.Write a program to handle a file opening error using exception handling.\n",
        "\n",
        "try:\n",
        "    with open('some_file.txt', 'r') as file:\n",
        "        content = file.read()\n",
        "        print(content)\n",
        "except FileNotFoundError:\n",
        "    print(\"Error: The file 'some_file.txt' does not exist.\")\n",
        "except IOError:\n",
        "    print(\"Error: An I/O error occurred while trying to open the file.\")\n"
      ],
      "metadata": {
        "colab": {
          "base_uri": "https://localhost:8080/"
        },
        "id": "lAKy54stT-r1",
        "outputId": "3fad614c-1caa-42a7-8f46-8fec9ddc6093"
      },
      "execution_count": 16,
      "outputs": [
        {
          "output_type": "stream",
          "name": "stdout",
          "text": [
            "Error: The file 'some_file.txt' does not exist.\n"
          ]
        }
      ]
    },
    {
      "cell_type": "code",
      "source": [
        "#9.  How can you read a file line by line and store its content in a list in Python?\n",
        "\n",
        "lines = []\n",
        "\n",
        "with open('input.txt', 'r') as file:\n",
        "    for line in file:\n",
        "        lines.append(line.strip())\n",
        "\n",
        "print(lines)"
      ],
      "metadata": {
        "colab": {
          "base_uri": "https://localhost:8080/",
          "height": 211
        },
        "id": "EEF0g2hhUPTE",
        "outputId": "8c1b4f64-ec57-4786-8d32-c7d92bd7b1ab"
      },
      "execution_count": 18,
      "outputs": [
        {
          "output_type": "error",
          "ename": "FileNotFoundError",
          "evalue": "[Errno 2] No such file or directory: 'input.txt'",
          "traceback": [
            "\u001b[0;31m---------------------------------------------------------------------------\u001b[0m",
            "\u001b[0;31mFileNotFoundError\u001b[0m                         Traceback (most recent call last)",
            "\u001b[0;32m<ipython-input-18-bbcd1fa41611>\u001b[0m in \u001b[0;36m<cell line: 0>\u001b[0;34m()\u001b[0m\n\u001b[1;32m      3\u001b[0m \u001b[0mlines\u001b[0m \u001b[0;34m=\u001b[0m \u001b[0;34m[\u001b[0m\u001b[0;34m]\u001b[0m\u001b[0;34m\u001b[0m\u001b[0;34m\u001b[0m\u001b[0m\n\u001b[1;32m      4\u001b[0m \u001b[0;34m\u001b[0m\u001b[0m\n\u001b[0;32m----> 5\u001b[0;31m \u001b[0;32mwith\u001b[0m \u001b[0mopen\u001b[0m\u001b[0;34m(\u001b[0m\u001b[0;34m'input.txt'\u001b[0m\u001b[0;34m,\u001b[0m \u001b[0;34m'r'\u001b[0m\u001b[0;34m)\u001b[0m \u001b[0;32mas\u001b[0m \u001b[0mfile\u001b[0m\u001b[0;34m:\u001b[0m\u001b[0;34m\u001b[0m\u001b[0;34m\u001b[0m\u001b[0m\n\u001b[0m\u001b[1;32m      6\u001b[0m     \u001b[0;32mfor\u001b[0m \u001b[0mline\u001b[0m \u001b[0;32min\u001b[0m \u001b[0mfile\u001b[0m\u001b[0;34m:\u001b[0m\u001b[0;34m\u001b[0m\u001b[0;34m\u001b[0m\u001b[0m\n\u001b[1;32m      7\u001b[0m         \u001b[0mlines\u001b[0m\u001b[0;34m.\u001b[0m\u001b[0mappend\u001b[0m\u001b[0;34m(\u001b[0m\u001b[0mline\u001b[0m\u001b[0;34m.\u001b[0m\u001b[0mstrip\u001b[0m\u001b[0;34m(\u001b[0m\u001b[0;34m)\u001b[0m\u001b[0;34m)\u001b[0m\u001b[0;34m\u001b[0m\u001b[0;34m\u001b[0m\u001b[0m\n",
            "\u001b[0;31mFileNotFoundError\u001b[0m: [Errno 2] No such file or directory: 'input.txt'"
          ]
        }
      ]
    },
    {
      "cell_type": "code",
      "source": [
        "#10.  How can you append data to an existing file in Python?\n",
        "with open('existing_file.txt', 'a') as file:\n",
        "    file.write(\"This line will be appended to the file.\\n\")\n"
      ],
      "metadata": {
        "id": "eg-wYuWHU9hG"
      },
      "execution_count": 20,
      "outputs": []
    },
    {
      "cell_type": "code",
      "source": [
        "#11. Write a Python program that uses a try-except block to handle an error when attempting to access a dictionary key that doesn't exist.\n",
        "\n",
        "my_dict = {'a': 1, 'b': 2, 'c': 3}\n",
        "\n",
        "try:\n",
        "    value = my_dict['d']  # Attempting to access a key that doesn't exist\n",
        "except KeyError:\n",
        "    print(\"Error: The key 'd' does not exist in the dictionary.\")\n"
      ],
      "metadata": {
        "colab": {
          "base_uri": "https://localhost:8080/"
        },
        "id": "WWtSyYfdVLRh",
        "outputId": "dd540035-7124-4eae-d689-fa9522f98341"
      },
      "execution_count": 21,
      "outputs": [
        {
          "output_type": "stream",
          "name": "stdout",
          "text": [
            "Error: The key 'd' does not exist in the dictionary.\n"
          ]
        }
      ]
    },
    {
      "cell_type": "code",
      "source": [
        "#12. Write a program that demonstrates using multiple except blocks to handle different types of exceptions.\n",
        "\n",
        "def divide_numbers(a, b):\n",
        "    try:\n",
        "        result = a / b\n",
        "        print(f\"The result is: {result}\")\n",
        "    except ZeroDivisionError:\n",
        "        print(\"Error: You cannot divide by zero.\")\n",
        "    except TypeError:\n",
        "        print(\"Error: Please provide numbers (int or float).\")\n",
        "    except Exception as e:\n",
        "        print(f\"An unexpected error occurred: {e}\")\n",
        "\n",
        "divide_numbers(10, 2)\n",
        "divide_numbers(10, 0)\n",
        "divide_numbers(10, \"a\")\n"
      ],
      "metadata": {
        "colab": {
          "base_uri": "https://localhost:8080/"
        },
        "id": "gHb_C1NeVYOz",
        "outputId": "2a0a467e-9675-4af2-da6d-f88e2b5c92f4"
      },
      "execution_count": 22,
      "outputs": [
        {
          "output_type": "stream",
          "name": "stdout",
          "text": [
            "The result is: 5.0\n",
            "Error: You cannot divide by zero.\n",
            "Error: Please provide numbers (int or float).\n"
          ]
        }
      ]
    },
    {
      "cell_type": "code",
      "source": [
        "#13.  How would you check if a file exists before attempting to read it in Python?\n",
        "import os\n",
        "\n",
        "file_path = 'input.txt'\n",
        "\n",
        "if os.path.exists(file_path):\n",
        "    with open(file_path, 'r') as file:\n",
        "        content = file.read()\n",
        "        print(content)\n",
        "else:\n",
        "    print(f\"Error: The file '{file_path}' does not exist.\")\n"
      ],
      "metadata": {
        "colab": {
          "base_uri": "https://localhost:8080/"
        },
        "id": "6RZWhTDLVpHH",
        "outputId": "49cf3b75-7c3c-49c3-dcf2-f2f92b14a181"
      },
      "execution_count": 23,
      "outputs": [
        {
          "output_type": "stream",
          "name": "stdout",
          "text": [
            "Error: The file 'input.txt' does not exist.\n"
          ]
        }
      ]
    },
    {
      "cell_type": "code",
      "source": [
        "#14.  Write a program that uses the logging module to log both informational and error messages.\n",
        "\n",
        "import logging\n",
        "\n",
        "logging.basicConfig(filename='app.log', level=logging.DEBUG, format='%(asctime)s - %(levelname)s - %(message)s')\n",
        "\n",
        "logging.info(\"This is an informational message.\")\n",
        "\n",
        "try:\n",
        "    result = 10 / 0\n",
        "except ZeroDivisionError:\n",
        "    logging.error(\"An error occurred: Division by zero.\")\n",
        "\n",
        "logging.info(\"Program finished executing.\")\n"
      ],
      "metadata": {
        "colab": {
          "base_uri": "https://localhost:8080/"
        },
        "id": "nwJOB7YgVyq4",
        "outputId": "126744e2-9e92-4365-b749-50f638924e28"
      },
      "execution_count": 24,
      "outputs": [
        {
          "output_type": "stream",
          "name": "stderr",
          "text": [
            "ERROR:root:An error occurred: Division by zero.\n"
          ]
        }
      ]
    },
    {
      "cell_type": "code",
      "source": [
        "#15.Write a Python program that prints the content of a file and handles the case when the file is empty.\n",
        "\n",
        "file_path = 'input.txt'\n",
        "\n",
        "try:\n",
        "    with open(file_path, 'r') as file:\n",
        "        content = file.read()\n",
        "        if content:  # Check if the content is not empty\n",
        "            print(content)\n",
        "        else:\n",
        "            print(\"The file is empty.\")\n",
        "except FileNotFoundError:\n",
        "    print(f\"Error: The file '{file_path}' does not exist.\")\n",
        "except IOError:\n",
        "    print(\"Error: An I/O error occurred while trying to read the file.\")\n"
      ],
      "metadata": {
        "colab": {
          "base_uri": "https://localhost:8080/"
        },
        "id": "Vf9c-rT8WCnX",
        "outputId": "a4c63ebc-c111-4da4-d6cd-46a8f6b86207"
      },
      "execution_count": 25,
      "outputs": [
        {
          "output_type": "stream",
          "name": "stdout",
          "text": [
            "Error: The file 'input.txt' does not exist.\n"
          ]
        }
      ]
    },
    {
      "cell_type": "code",
      "source": [
        "#16.Demonstrate how to use memory profiling to check the memory usage of a small program.\n",
        "from memory_profiler import profile\n",
        "\n",
        "@profile\n",
        "def my_function():\n",
        "    a = [i for i in range(10000)]  # Create a list of 10,000 integers\n",
        "    b = [i * 2 for i in a]          # Create another list with doubled values\n",
        "    return b\n",
        "\n",
        "if __name__ == \"__main__\":\n",
        "    my_function()\n"
      ],
      "metadata": {
        "colab": {
          "base_uri": "https://localhost:8080/",
          "height": 383
        },
        "id": "V5GayHGbWNT7",
        "outputId": "31ecf2cd-3c90-4dda-f7a7-f08efeee8ed5"
      },
      "execution_count": 28,
      "outputs": [
        {
          "output_type": "error",
          "ename": "ModuleNotFoundError",
          "evalue": "No module named 'memory_profiler'",
          "traceback": [
            "\u001b[0;31m---------------------------------------------------------------------------\u001b[0m",
            "\u001b[0;31mModuleNotFoundError\u001b[0m                       Traceback (most recent call last)",
            "\u001b[0;32m<ipython-input-28-205853851c30>\u001b[0m in \u001b[0;36m<cell line: 0>\u001b[0;34m()\u001b[0m\n\u001b[1;32m      1\u001b[0m \u001b[0;31m#16.Demonstrate how to use memory profiling to check the memory usage of a small program.\u001b[0m\u001b[0;34m\u001b[0m\u001b[0;34m\u001b[0m\u001b[0m\n\u001b[0;32m----> 2\u001b[0;31m \u001b[0;32mfrom\u001b[0m \u001b[0mmemory_profiler\u001b[0m \u001b[0;32mimport\u001b[0m \u001b[0mprofile\u001b[0m\u001b[0;34m\u001b[0m\u001b[0;34m\u001b[0m\u001b[0m\n\u001b[0m\u001b[1;32m      3\u001b[0m \u001b[0;34m\u001b[0m\u001b[0m\n\u001b[1;32m      4\u001b[0m \u001b[0;34m@\u001b[0m\u001b[0mprofile\u001b[0m\u001b[0;34m\u001b[0m\u001b[0;34m\u001b[0m\u001b[0m\n\u001b[1;32m      5\u001b[0m \u001b[0;32mdef\u001b[0m \u001b[0mmy_function\u001b[0m\u001b[0;34m(\u001b[0m\u001b[0;34m)\u001b[0m\u001b[0;34m:\u001b[0m\u001b[0;34m\u001b[0m\u001b[0;34m\u001b[0m\u001b[0m\n",
            "\u001b[0;31mModuleNotFoundError\u001b[0m: No module named 'memory_profiler'",
            "",
            "\u001b[0;31m---------------------------------------------------------------------------\u001b[0;32m\nNOTE: If your import is failing due to a missing package, you can\nmanually install dependencies using either !pip or !apt.\n\nTo view examples of installing some common dependencies, click the\n\"Open Examples\" button below.\n\u001b[0;31m---------------------------------------------------------------------------\u001b[0m\n"
          ],
          "errorDetails": {
            "actions": [
              {
                "action": "open_url",
                "actionText": "Open Examples",
                "url": "/notebooks/snippets/importing_libraries.ipynb"
              }
            ]
          }
        }
      ]
    },
    {
      "cell_type": "code",
      "source": [
        "#17. Write a Python program to create and write a list of numbers to a file, one number per line.\n",
        "\n",
        "numbers = [1, 2, 3, 4, 5, 6, 7, 8, 9, 10]\n",
        "\n",
        "with open('numbers.txt', 'w') as file:\n",
        "    for number in numbers:\n",
        "        file.write(f\"{number}\\n\")\n",
        "\n",
        "print(\"Numbers have been written to 'numbers.txt'.\")\n"
      ],
      "metadata": {
        "colab": {
          "base_uri": "https://localhost:8080/"
        },
        "id": "hf8NnxycXB9-",
        "outputId": "e337581f-0a51-43a3-c242-8dc4377d8d52"
      },
      "execution_count": 29,
      "outputs": [
        {
          "output_type": "stream",
          "name": "stdout",
          "text": [
            "Numbers have been written to 'numbers.txt'.\n"
          ]
        }
      ]
    },
    {
      "cell_type": "code",
      "source": [
        "#18. How would you implement a basic logging setup that logs to a file with rotation after 1MB?\n",
        "\n",
        "import logging\n",
        "from logging.handlers import RotatingFileHandler\n",
        "\n",
        "logger = logging.getLogger('MyLogger')\n",
        "logger.setLevel(logging.DEBUG)\n",
        "\n",
        "handler = RotatingFileHandler('app.log', maxBytes=1*1024*1024, backupCount=5)\n",
        "handler.setLevel(logging.DEBUG)\n",
        "\n",
        "formatter = logging.Formatter('%(asctime)s - %(levelname)s - %(message)s')\n",
        "handler.setFormatter(formatter)\n",
        "\n",
        "logger.addHandler(handler)\n",
        "\n",
        "logger.info(\"This is an informational message.\")\n",
        "logger.error(\"This is an error message.\")\n"
      ],
      "metadata": {
        "colab": {
          "base_uri": "https://localhost:8080/"
        },
        "id": "As6MVwVcXOQT",
        "outputId": "8ce2b7b5-e25c-45c7-88e0-14bb587642b7"
      },
      "execution_count": 30,
      "outputs": [
        {
          "output_type": "stream",
          "name": "stderr",
          "text": [
            "INFO:MyLogger:This is an informational message.\n",
            "ERROR:MyLogger:This is an error message.\n"
          ]
        }
      ]
    },
    {
      "cell_type": "code",
      "source": [
        "#19.  Write a program that handles both IndexError and KeyError using a try-except block.\n",
        "my_list = [1, 2, 3]\n",
        "my_dict = {'a': 1, 'b': 2, 'c': 3}\n",
        "\n",
        "try:\n",
        "    print(my_list[5])\n",
        "    print(my_dict['d'])\n",
        "except IndexError:\n",
        "    print(\"Error: Index out of range in the list.\")\n",
        "except KeyError:\n",
        "    print(\"Error: Key does not exist in the dictionary.\")\n"
      ],
      "metadata": {
        "colab": {
          "base_uri": "https://localhost:8080/"
        },
        "id": "B22nVgRKXaab",
        "outputId": "8f101b18-c36c-43c8-bd1a-e92fc9c7e68e"
      },
      "execution_count": 31,
      "outputs": [
        {
          "output_type": "stream",
          "name": "stdout",
          "text": [
            "Error: Index out of range in the list.\n"
          ]
        }
      ]
    },
    {
      "cell_type": "code",
      "source": [
        "#20. How would you open a file and read its contents using a context manager in Python.\n",
        "\n",
        "with open('input.txt', 'r') as file:\n",
        "    content = file.read()\n",
        "\n",
        "print(content)\n",
        "\n"
      ],
      "metadata": {
        "colab": {
          "base_uri": "https://localhost:8080/",
          "height": 211
        },
        "id": "693PDHbQXst4",
        "outputId": "915de9ef-ffc9-4515-ddf6-b6fba2cc53d8"
      },
      "execution_count": 33,
      "outputs": [
        {
          "output_type": "error",
          "ename": "FileNotFoundError",
          "evalue": "[Errno 2] No such file or directory: 'input.txt'",
          "traceback": [
            "\u001b[0;31m---------------------------------------------------------------------------\u001b[0m",
            "\u001b[0;31mFileNotFoundError\u001b[0m                         Traceback (most recent call last)",
            "\u001b[0;32m<ipython-input-33-be514cb107ba>\u001b[0m in \u001b[0;36m<cell line: 0>\u001b[0;34m()\u001b[0m\n\u001b[1;32m      1\u001b[0m \u001b[0;31m#20. How would you open a file and read its contents using a context manager in Python.\u001b[0m\u001b[0;34m\u001b[0m\u001b[0;34m\u001b[0m\u001b[0m\n\u001b[1;32m      2\u001b[0m \u001b[0;34m\u001b[0m\u001b[0m\n\u001b[0;32m----> 3\u001b[0;31m \u001b[0;32mwith\u001b[0m \u001b[0mopen\u001b[0m\u001b[0;34m(\u001b[0m\u001b[0;34m'input.txt'\u001b[0m\u001b[0;34m,\u001b[0m \u001b[0;34m'r'\u001b[0m\u001b[0;34m)\u001b[0m \u001b[0;32mas\u001b[0m \u001b[0mfile\u001b[0m\u001b[0;34m:\u001b[0m\u001b[0;34m\u001b[0m\u001b[0;34m\u001b[0m\u001b[0m\n\u001b[0m\u001b[1;32m      4\u001b[0m     \u001b[0mcontent\u001b[0m \u001b[0;34m=\u001b[0m \u001b[0mfile\u001b[0m\u001b[0;34m.\u001b[0m\u001b[0mread\u001b[0m\u001b[0;34m(\u001b[0m\u001b[0;34m)\u001b[0m\u001b[0;34m\u001b[0m\u001b[0;34m\u001b[0m\u001b[0m\n\u001b[1;32m      5\u001b[0m \u001b[0;34m\u001b[0m\u001b[0m\n",
            "\u001b[0;31mFileNotFoundError\u001b[0m: [Errno 2] No such file or directory: 'input.txt'"
          ]
        }
      ]
    },
    {
      "cell_type": "code",
      "source": [
        "#21. Write a Python program that reads a file and prints the number of occurrences of a specific word.\n",
        "def count_word_occurrences(file_path, target_word):\n",
        "    with open(file_path, 'r') as file:\n",
        "        content = file.read()\n",
        "        word_count = content.lower().count(target_word.lower())\n",
        "    return word_count\n",
        "\n",
        "file_path = 'input.txt'\n",
        "target_word = 'shreya'\n",
        "\n",
        "occurrences = count_word_occurrences(file_path, target_word)\n",
        "print(f\"The word '{target_word}' occurs {occurrences} times in the file.\")\n"
      ],
      "metadata": {
        "colab": {
          "base_uri": "https://localhost:8080/",
          "height": 315
        },
        "id": "nd8nlP_SX-yS",
        "outputId": "e9d8eed8-d44d-42cb-d6e1-174ca79c70c1"
      },
      "execution_count": 36,
      "outputs": [
        {
          "output_type": "error",
          "ename": "FileNotFoundError",
          "evalue": "[Errno 2] No such file or directory: 'input.txt'",
          "traceback": [
            "\u001b[0;31m---------------------------------------------------------------------------\u001b[0m",
            "\u001b[0;31mFileNotFoundError\u001b[0m                         Traceback (most recent call last)",
            "\u001b[0;32m<ipython-input-36-8524e9936e35>\u001b[0m in \u001b[0;36m<cell line: 0>\u001b[0;34m()\u001b[0m\n\u001b[1;32m      9\u001b[0m \u001b[0mtarget_word\u001b[0m \u001b[0;34m=\u001b[0m \u001b[0;34m'shreya'\u001b[0m\u001b[0;34m\u001b[0m\u001b[0;34m\u001b[0m\u001b[0m\n\u001b[1;32m     10\u001b[0m \u001b[0;34m\u001b[0m\u001b[0m\n\u001b[0;32m---> 11\u001b[0;31m \u001b[0moccurrences\u001b[0m \u001b[0;34m=\u001b[0m \u001b[0mcount_word_occurrences\u001b[0m\u001b[0;34m(\u001b[0m\u001b[0mfile_path\u001b[0m\u001b[0;34m,\u001b[0m \u001b[0mtarget_word\u001b[0m\u001b[0;34m)\u001b[0m\u001b[0;34m\u001b[0m\u001b[0;34m\u001b[0m\u001b[0m\n\u001b[0m\u001b[1;32m     12\u001b[0m \u001b[0mprint\u001b[0m\u001b[0;34m(\u001b[0m\u001b[0;34mf\"The word '{target_word}' occurs {occurrences} times in the file.\"\u001b[0m\u001b[0;34m)\u001b[0m\u001b[0;34m\u001b[0m\u001b[0;34m\u001b[0m\u001b[0m\n",
            "\u001b[0;32m<ipython-input-36-8524e9936e35>\u001b[0m in \u001b[0;36mcount_word_occurrences\u001b[0;34m(file_path, target_word)\u001b[0m\n\u001b[1;32m      1\u001b[0m \u001b[0;31m#21. Write a Python program that reads a file and prints the number of occurrences of a specific word.\u001b[0m\u001b[0;34m\u001b[0m\u001b[0;34m\u001b[0m\u001b[0m\n\u001b[1;32m      2\u001b[0m \u001b[0;32mdef\u001b[0m \u001b[0mcount_word_occurrences\u001b[0m\u001b[0;34m(\u001b[0m\u001b[0mfile_path\u001b[0m\u001b[0;34m,\u001b[0m \u001b[0mtarget_word\u001b[0m\u001b[0;34m)\u001b[0m\u001b[0;34m:\u001b[0m\u001b[0;34m\u001b[0m\u001b[0;34m\u001b[0m\u001b[0m\n\u001b[0;32m----> 3\u001b[0;31m     \u001b[0;32mwith\u001b[0m \u001b[0mopen\u001b[0m\u001b[0;34m(\u001b[0m\u001b[0mfile_path\u001b[0m\u001b[0;34m,\u001b[0m \u001b[0;34m'r'\u001b[0m\u001b[0;34m)\u001b[0m \u001b[0;32mas\u001b[0m \u001b[0mfile\u001b[0m\u001b[0;34m:\u001b[0m\u001b[0;34m\u001b[0m\u001b[0;34m\u001b[0m\u001b[0m\n\u001b[0m\u001b[1;32m      4\u001b[0m         \u001b[0mcontent\u001b[0m \u001b[0;34m=\u001b[0m \u001b[0mfile\u001b[0m\u001b[0;34m.\u001b[0m\u001b[0mread\u001b[0m\u001b[0;34m(\u001b[0m\u001b[0;34m)\u001b[0m\u001b[0;34m\u001b[0m\u001b[0;34m\u001b[0m\u001b[0m\n\u001b[1;32m      5\u001b[0m         \u001b[0mword_count\u001b[0m \u001b[0;34m=\u001b[0m \u001b[0mcontent\u001b[0m\u001b[0;34m.\u001b[0m\u001b[0mlower\u001b[0m\u001b[0;34m(\u001b[0m\u001b[0;34m)\u001b[0m\u001b[0;34m.\u001b[0m\u001b[0mcount\u001b[0m\u001b[0;34m(\u001b[0m\u001b[0mtarget_word\u001b[0m\u001b[0;34m.\u001b[0m\u001b[0mlower\u001b[0m\u001b[0;34m(\u001b[0m\u001b[0;34m)\u001b[0m\u001b[0;34m)\u001b[0m\u001b[0;34m\u001b[0m\u001b[0;34m\u001b[0m\u001b[0m\n",
            "\u001b[0;31mFileNotFoundError\u001b[0m: [Errno 2] No such file or directory: 'input.txt'"
          ]
        }
      ]
    },
    {
      "cell_type": "code",
      "source": [
        "#22.  How can you check if a file is empty before attempting to read its contents.\n",
        "import os\n",
        "\n",
        "file_path = 'input.txt'\n",
        "\n",
        "if os.path.exists(file_path) and os.path.getsize(file_path) > 0:\n",
        "    with open(file_path, 'r') as file:\n",
        "        content = file.read()\n",
        "    print(content)\n",
        "else:\n",
        "    print(\"The file is empty or does not exist.\")\n"
      ],
      "metadata": {
        "colab": {
          "base_uri": "https://localhost:8080/"
        },
        "id": "c3gFQIYZYcdl",
        "outputId": "6368435b-e949-429e-e561-519f4e7dcbcb"
      },
      "execution_count": 37,
      "outputs": [
        {
          "output_type": "stream",
          "name": "stdout",
          "text": [
            "The file is empty or does not exist.\n"
          ]
        }
      ]
    },
    {
      "cell_type": "code",
      "source": [
        "#23. Write a Python program that writes to a log file when an error occurs during file handling\n",
        "import logging\n",
        "\n",
        "logging.basicConfig(filename='file_errors.log', level=logging.ERROR, format='%(asctime)s - %(levelname)s - %(message)s')\n",
        "\n",
        "file_path = 'input.txt'\n",
        "\n",
        "try:\n",
        "    with open(file_path, 'r') as file:\n",
        "        content = file.read()\n",
        "    print(content)\n",
        "except FileNotFoundError:\n",
        "    logging.error(f\"Error: The file '{file_path}' does not exist.\")\n",
        "except IOError as e:\n",
        "    logging.error(f\"Error while handling the file: {e}\")\n"
      ],
      "metadata": {
        "colab": {
          "base_uri": "https://localhost:8080/"
        },
        "id": "jWx20YNJYpys",
        "outputId": "77e523bf-e4d0-4c5c-ce11-515e5249aad6"
      },
      "execution_count": 38,
      "outputs": [
        {
          "output_type": "stream",
          "name": "stderr",
          "text": [
            "ERROR:root:Error: The file 'input.txt' does not exist.\n"
          ]
        }
      ]
    }
  ]
}